{
  "cells": [
    {
      "cell_type": "code",
      "execution_count": null,
      "metadata": {
        "id": "jhc-dKRcsLfJ"
      },
      "outputs": [],
      "source": [
        "from keras.preprocessing.image import ImageDataGenerator\n",
        "from keras.applications.vgg19 import VGG19\n",
        "from keras.layers import Flatten, Dense, Dropout, Conv2D, MaxPool2D,BatchNormalization, LSTM, CuDNNLSTM, MaxPooling2D\n",
        "from keras.models import Sequential\n",
        "from keras import regularizers\n",
        "import keras\n",
        "\n",
        "from keras.layers import TimeDistributed\n",
        "from keras.layers import GlobalAveragePooling2D\n",
        "from tensorflow.keras.applications import MobileNetV2\n",
        "\n",
        "from tensorflow.keras.optimizers import Adam\n",
        "import tensorflow as tf\n",
        "\n",
        "import matplotlib.pyplot as plt\n",
        "import cv2"
      ]
    },
    {
      "cell_type": "code",
      "execution_count": null,
      "metadata": {
        "colab": {
          "base_uri": "https://localhost:8080/"
        },
        "id": "JHt_o3En66Ix",
        "outputId": "d8455ab5-eb7d-4dcd-e9ec-e2ef58c98c3e"
      },
      "outputs": [
        {
          "name": "stdout",
          "output_type": "stream",
          "text": [
            "Drive already mounted at /content/drive; to attempt to forcibly remount, call drive.mount(\"/content/drive\", force_remount=True).\n"
          ]
        }
      ],
      "source": [
        "from google.colab import drive\n",
        "drive.mount('/content/drive')\n",
        "\n",
        "train_dir = '/content/drive/MyDrive/FER/train'\n",
        "val_dir = '/content/drive/MyDrive/FER/validation'"
      ]
    },
    {
      "cell_type": "code",
      "execution_count": null,
      "metadata": {
        "colab": {
          "base_uri": "https://localhost:8080/"
        },
        "id": "bn0bS6aPhNVp",
        "outputId": "879e8d34-4cd2-4b27-f53c-2faaea682e2b"
      },
      "outputs": [
        {
          "name": "stdout",
          "output_type": "stream",
          "text": [
            "Found 28821 images belonging to 7 classes.\n",
            "Found 7066 images belonging to 7 classes.\n"
          ]
        }
      ],
      "source": [
        "image_generator = ImageDataGenerator(\n",
        "    rescale=1./255, \n",
        "    horizontal_flip=2, \n",
        "    vertical_flip=2\n",
        ")    \n",
        "\n",
        "training_set = image_generator.flow_from_directory(batch_size=256,\n",
        "                                                 directory=train_dir,\n",
        "                                                 shuffle=True,\n",
        "                                                 target_size=(48, 48), \n",
        "                                                 class_mode='categorical',\n",
        "#                                                  color_mode = \"grayscale\"\n",
        "                                                )\n",
        "\n",
        "testing_set = image_generator.flow_from_directory(batch_size=128,\n",
        "                                                 directory=val_dir,\n",
        "                                                 shuffle=True,\n",
        "                                                 target_size=(48, 48), \n",
        "                                                 class_mode='categorical',\n",
        "#                                                  color_mode = \"grayscale\"\n",
        "                                                 )"
      ]
    },
    {
      "cell_type": "code",
      "execution_count": null,
      "metadata": {
        "colab": {
          "base_uri": "https://localhost:8080/"
        },
        "id": "FCfWOD4Ttu39",
        "outputId": "c2cc06fe-b37f-4568-b3c0-6df7f8b92b60"
      },
      "outputs": [
        {
          "data": {
            "text/plain": [
              "{'angry': 0,\n",
              " 'disgust': 1,\n",
              " 'fear': 2,\n",
              " 'happy': 3,\n",
              " 'neutral': 4,\n",
              " 'sad': 5,\n",
              " 'surprise': 6}"
            ]
          },
          "execution_count": 5,
          "metadata": {},
          "output_type": "execute_result"
        }
      ],
      "source": [
        "training_set.class_indices"
      ]
    },
    {
      "cell_type": "code",
      "execution_count": null,
      "metadata": {
        "colab": {
          "base_uri": "https://localhost:8080/"
        },
        "id": "KwOtchnPLJsO",
        "outputId": "3003c4a1-c432-4862-eb3a-5b5c8253c5c9"
      },
      "outputs": [
        {
          "name": "stdout",
          "output_type": "stream",
          "text": [
            "Found 28821 images belonging to 7 classes.\n",
            "Found 7066 images belonging to 7 classes.\n"
          ]
        }
      ],
      "source": [
        "# Initialize image data generator with rescaling\n",
        "train_data_gen = ImageDataGenerator(rescale=1./255)\n",
        "validation_data_gen = ImageDataGenerator(rescale=1./255)\n",
        "\n",
        "# Preprocess all test images\n",
        "train_generator = train_data_gen.flow_from_directory(\n",
        "        train_dir,\n",
        "        target_size=(48, 48),\n",
        "        batch_size=64,\n",
        "#         color_mode=\"grayscale\",\n",
        "        class_mode='categorical')\n",
        "\n",
        "# Preprocess all train images\n",
        "validation_generator = validation_data_gen.flow_from_directory(\n",
        "        val_dir,\n",
        "        target_size=(48, 48),\n",
        "        batch_size=64,\n",
        "#         color_mode=\"grayscale\",\n",
        "        class_mode='categorical')"
      ]
    },
    {
      "cell_type": "code",
      "execution_count": null,
      "metadata": {
        "id": "3T-Tt-1OLJsP"
      },
      "outputs": [],
      "source": [
        "dim = (48,48) # for MobileNetV2\n",
        "n_sequence = 8 # for LSTM\n",
        "n_channels = 3 # color channel(RGB)\n",
        "n_output = 7 #18 # number of output class"
      ]
    },
    {
      "cell_type": "code",
      "execution_count": null,
      "metadata": {
        "colab": {
          "base_uri": "https://localhost:8080/"
        },
        "id": "FIobDkl1LJsP",
        "outputId": "8db5d79a-4ac5-4097-e8df-05c406266388"
      },
      "outputs": [
        {
          "name": "stderr",
          "output_type": "stream",
          "text": [
            "WARNING:tensorflow:`input_shape` is undefined or non-square, or `rows` is not in [96, 128, 160, 192, 224]. Weights for input shape (224, 224) will be loaded as the default.\n"
          ]
        }
      ],
      "source": [
        "model = Sequential()    \n",
        "model.add(tf.keras.layers.Reshape((1, 48, 48, 3), input_shape=(48, 48, 3)))\n",
        "model.add( \n",
        "    TimeDistributed(\n",
        "        MobileNetV2(weights='imagenet',include_top=False), \n",
        "        input_shape=(n_sequence, *dim, n_channels)\n",
        "    )\n",
        ")\n",
        "model.add(\n",
        "    TimeDistributed(\n",
        "        GlobalAveragePooling2D()\n",
        "    )\n",
        ")\n",
        "model.add(CuDNNLSTM(64, return_sequences=False))\n",
        "model.add(Dense(64, activation='relu'))\n",
        "model.add(Dropout(.5))\n",
        "model.add(Dense(24, activation='relu'))\n",
        "model.add(Dropout(.5))  \n",
        "model.add(Dense(n_output, activation='softmax'))"
      ]
    },
    {
      "cell_type": "code",
      "execution_count": null,
      "metadata": {
        "colab": {
          "background_save": true,
          "base_uri": "https://localhost:8080/"
        },
        "id": "xFMhalqcLJsP",
        "outputId": "fb3a229b-3744-4e28-97f0-9828a2c3e52b"
      },
      "outputs": [
        {
          "name": "stderr",
          "output_type": "stream",
          "text": [
            "<ipython-input-9-2773d06722bf>:2: UserWarning: `Model.fit_generator` is deprecated and will be removed in a future version. Please use `Model.fit`, which supports generators.\n",
            "  hist = model.fit_generator(training_set, validation_data = testing_set , epochs = 48)\n"
          ]
        },
        {
          "name": "stdout",
          "output_type": "stream",
          "text": [
            "Epoch 1/48\n",
            " 85/113 [=====================>........] - ETA: 13s - loss: 1.8203 - accuracy: 0.2488"
          ]
        }
      ],
      "source": [
        "\n",
        "model.compile(optimizer = \"adam\",loss = \"categorical_crossentropy\" , metrics=['accuracy'])\n",
        "hist = model.fit_generator(training_set, validation_data = testing_set , epochs = 48)"
      ]
    },
    {
      "cell_type": "code",
      "execution_count": null,
      "metadata": {
        "id": "vybupFdpLJsQ"
      },
      "outputs": [],
      "source": [
        "hist = hist.history\n",
        "plt.plot(hist[\"accuracy\"])\n",
        "plt.plot(hist[\"val_accuracy\"])\n",
        "plt.title(\"Accuracy plot\")\n",
        "plt.legend([\"train\",\"test\"])\n",
        "plt.xlabel(\"epoch\")\n",
        "plt.ylabel(\"accuracy\")\n",
        "plt.savefig(\"mobilenetCuDNNLSTMv3_accuracy.png\")"
      ]
    },
    {
      "cell_type": "code",
      "execution_count": null,
      "metadata": {
        "id": "1r27omzgLJsQ"
      },
      "outputs": [],
      "source": [
        "plt.plot(hist[\"loss\"])\n",
        "plt.plot(hist[\"val_loss\"])\n",
        "plt.title(\"Accuracy loss\")\n",
        "plt.legend([\"train\",\"test\"])\n",
        "plt.xlabel(\"epoch\")\n",
        "plt.ylabel(\"loss\")\n",
        "plt.savefig(\"mobilenetCuDNNLSTMv3_loss.png\")"
      ]
    },
    {
      "cell_type": "code",
      "execution_count": null,
      "metadata": {
        "id": "smnC2jKKLJsQ"
      },
      "outputs": [],
      "source": [
        "model.save(\"mobilenetCuDNNLSTMv3.h5\")"
      ]
    },
    {
      "cell_type": "code",
      "execution_count": null,
      "metadata": {
        "id": "cHd41wyD7NuP"
      },
      "outputs": [],
      "source": [
        "import numpy as np\n",
        "\n",
        "y_pred = model.predict(training_set)\n",
        "y_pred = np.argmax(y_pred, axis=1)\n",
        "class_labels = testing_set.class_indices\n",
        "class_labels = {v:k for k,v in class_labels.items()}\n",
        "\n",
        "from sklearn.metrics import classification_report, confusion_matrix\n",
        "cm_train = confusion_matrix(training_set.classes, y_pred)\n",
        "print('Confusion Matrix')\n",
        "print(cm_train)\n",
        "print('Classification Report')\n",
        "target_names = list(class_labels.values())\n",
        "print(classification_report(training_set.classes, y_pred, target_names=target_names))\n",
        "\n",
        "plt.figure(figsize=(8,8))\n",
        "plt.imshow(cm_train, interpolation='nearest')\n",
        "plt.colorbar()\n",
        "tick_mark = np.arange(len(target_names))\n",
        "_ = plt.xticks(tick_mark, target_names, rotation=90)\n",
        "_ = plt.yticks(tick_mark, target_names)"
      ]
    },
    {
      "cell_type": "code",
      "execution_count": null,
      "metadata": {
        "id": "g2Y8RBkMxJ5k"
      },
      "outputs": [],
      "source": [
        "#TEST SET\n",
        "y_pred = model.predict(testing_set)\n",
        "y_pred = np.argmax(y_pred, axis=1)\n",
        "\n",
        "cm_test = confusion_matrix(testing_set.classes, y_pred)\n",
        "print('Confusion Matrix')\n",
        "print(cm_test)\n",
        "print('Classification Report')\n",
        "target_names = list(class_labels.values())\n",
        "print(classification_report(testing_set.classes, y_pred, target_names=target_names))\n",
        "\n",
        "plt.figure(figsize=(8,8))\n",
        "plt.imshow(cm_test, interpolation='nearest')\n",
        "plt.colorbar()\n",
        "tick_mark = np.arange(len(target_names))\n",
        "_ = plt.xticks(tick_mark, target_names, rotation=90)\n",
        "_ = plt.yticks(tick_mark, target_names)"
      ]
    }
  ],
  "metadata": {
    "accelerator": "GPU",
    "colab": {
      "provenance": []
    },
    "kernelspec": {
      "display_name": "Python 3",
      "language": "python",
      "name": "python3"
    },
    "language_info": {
      "codemirror_mode": {
        "name": "ipython",
        "version": 3
      },
      "file_extension": ".py",
      "mimetype": "text/x-python",
      "name": "python",
      "nbconvert_exporter": "python",
      "pygments_lexer": "ipython3",
      "version": "3.6.4"
    }
  },
  "nbformat": 4,
  "nbformat_minor": 0
}